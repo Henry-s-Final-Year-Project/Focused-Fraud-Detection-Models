{
 "cells": [
  {
   "cell_type": "markdown",
   "metadata": {},
   "source": [
    "## Geolocation Fraud Detection Model"
   ]
  },
  {
   "cell_type": "code",
   "execution_count": 6,
   "metadata": {},
   "outputs": [],
   "source": [
    "import pandas as pd\n",
    "import numpy as np"
   ]
  },
  {
   "cell_type": "code",
   "execution_count": 7,
   "metadata": {},
   "outputs": [
    {
     "name": "stdout",
     "output_type": "stream",
     "text": [
      "<class 'pandas.core.frame.DataFrame'>\n",
      "RangeIndex: 200000 entries, 0 to 199999\n",
      "Data columns (total 28 columns):\n",
      " #   Column                   Non-Null Count   Dtype  \n",
      "---  ------                   --------------   -----  \n",
      " 0   transaction_id           200000 non-null  int64  \n",
      " 1   timestamp                200000 non-null  object \n",
      " 2   amount                   200000 non-null  float64\n",
      " 3   currency                 200000 non-null  object \n",
      " 4   transaction_type         200000 non-null  object \n",
      " 5   country                  198987 non-null  object \n",
      " 6   city                     200000 non-null  object \n",
      " 7   latitude                 179906 non-null  float64\n",
      " 8   longitude                179951 non-null  float64\n",
      " 9   ip_address               200000 non-null  object \n",
      " 10  timezone                 200000 non-null  object \n",
      " 11  user_id                  200000 non-null  int64  \n",
      " 12  device_id                189924 non-null  object \n",
      " 13  device_type              200000 non-null  object \n",
      " 14  operating_system         200000 non-null  object \n",
      " 15  app_version              200000 non-null  object \n",
      " 16  user_agent               200000 non-null  object \n",
      " 17  avg_spend_30d            190080 non-null  float64\n",
      " 18  transactions_last_7d     200000 non-null  int64  \n",
      " 19  time_since_last_login    200000 non-null  float64\n",
      " 20  login_attempts_last_24h  200000 non-null  int64  \n",
      " 21  is_new_device            200000 non-null  int64  \n",
      " 22  vpn_usage                200000 non-null  int64  \n",
      " 23  proxy_usage              200000 non-null  int64  \n",
      " 24  ip_risk_score            200000 non-null  int64  \n",
      " 25  ASN                      200000 non-null  int64  \n",
      " 26  ISP                      200000 non-null  object \n",
      " 27  is_fraud                 200000 non-null  int64  \n",
      "dtypes: float64(5), int64(10), object(13)\n",
      "memory usage: 42.7+ MB\n",
      "None\n",
      "       transaction_id         amount       latitude      longitude  \\\n",
      "count   200000.000000  200000.000000  179906.000000  179951.000000   \n",
      "mean    100101.219220      66.801487       0.091286       0.068076   \n",
      "std      57793.383917     138.201207      51.968295     103.865852   \n",
      "min          1.000000       0.000000     -89.998969    -179.998457   \n",
      "25%      50049.750000      14.887500     -44.883997     -89.738180   \n",
      "50%     100097.500000      36.335000       0.065377       0.174151   \n",
      "75%     150157.250000      74.290000      45.151769      89.967560   \n",
      "max     200200.000000    5156.460000      89.998164     179.999123   \n",
      "\n",
      "             user_id  avg_spend_30d  transactions_last_7d  \\\n",
      "count  200000.000000  190080.000000         200000.000000   \n",
      "mean    25035.482690     199.765631              4.998610   \n",
      "std     14470.009742      75.127097              2.238699   \n",
      "min         1.000000    -125.700000              0.000000   \n",
      "25%     12460.000000     149.080000              3.000000   \n",
      "50%     25092.500000     199.900000              5.000000   \n",
      "75%     37618.250000     250.390000              6.000000   \n",
      "max     50000.000000     543.450000             18.000000   \n",
      "\n",
      "       time_since_last_login  login_attempts_last_24h  is_new_device  \\\n",
      "count          200000.000000            200000.000000  200000.000000   \n",
      "mean               84.091262                 2.504745       0.118100   \n",
      "std                48.461095                 1.709381       0.322727   \n",
      "min                 0.100000                 0.000000       0.000000   \n",
      "25%                42.100000                 1.000000       0.000000   \n",
      "50%                84.000000                 2.000000       0.000000   \n",
      "75%               126.000000                 4.000000       0.000000   \n",
      "max               168.000000                 5.000000       1.000000   \n",
      "\n",
      "           vpn_usage    proxy_usage  ip_risk_score            ASN  \\\n",
      "count  200000.000000  200000.000000  200000.000000  200000.000000   \n",
      "mean        0.118800       0.063350      31.549165   50477.606755   \n",
      "std         0.323554       0.243592      14.392358   28566.735788   \n",
      "min         0.000000       0.000000       0.000000    1000.000000   \n",
      "25%         0.000000       0.000000      23.000000   25766.000000   \n",
      "50%         0.000000       0.000000      30.000000   50474.000000   \n",
      "75%         0.000000       0.000000      37.000000   75199.250000   \n",
      "max         1.000000       1.000000     100.000000   99999.000000   \n",
      "\n",
      "            is_fraud  \n",
      "count  200000.000000  \n",
      "mean        0.037500  \n",
      "std         0.189984  \n",
      "min         0.000000  \n",
      "25%         0.000000  \n",
      "50%         0.000000  \n",
      "75%         0.000000  \n",
      "max         1.000000  \n",
      "transaction_id                 0\n",
      "timestamp                      0\n",
      "amount                         0\n",
      "currency                       0\n",
      "transaction_type               0\n",
      "country                     1013\n",
      "city                           0\n",
      "latitude                   20094\n",
      "longitude                  20049\n",
      "ip_address                     0\n",
      "timezone                       0\n",
      "user_id                        0\n",
      "device_id                  10076\n",
      "device_type                    0\n",
      "operating_system               0\n",
      "app_version                    0\n",
      "user_agent                     0\n",
      "avg_spend_30d               9920\n",
      "transactions_last_7d           0\n",
      "time_since_last_login          0\n",
      "login_attempts_last_24h        0\n",
      "is_new_device                  0\n",
      "vpn_usage                      0\n",
      "proxy_usage                    0\n",
      "ip_risk_score                  0\n",
      "ASN                            0\n",
      "ISP                            0\n",
      "is_fraud                       0\n",
      "dtype: int64\n"
     ]
    }
   ],
   "source": [
    "df = pd.read_csv('data/geolocation_fraud_dataset.csv')\n",
    "print(df.info())\n",
    "print(df.describe())\n",
    "print(df.isnull().sum())"
   ]
  },
  {
   "cell_type": "markdown",
   "metadata": {},
   "source": [
    "#### Data Preprocessing"
   ]
  },
  {
   "cell_type": "code",
   "execution_count": 26,
   "metadata": {},
   "outputs": [
    {
     "ename": "ImportError",
     "evalue": "Numba needs NumPy 2.1 or less. Got NumPy 2.2.",
     "output_type": "error",
     "traceback": [
      "\u001b[1;31m---------------------------------------------------------------------------\u001b[0m",
      "\u001b[1;31mImportError\u001b[0m                               Traceback (most recent call last)",
      "Cell \u001b[1;32mIn[26], line 12\u001b[0m\n\u001b[0;32m      6\u001b[0m \u001b[38;5;28;01mfrom\u001b[39;00m\u001b[38;5;250m \u001b[39m\u001b[38;5;21;01mxgboost\u001b[39;00m\u001b[38;5;250m \u001b[39m\u001b[38;5;28;01mimport\u001b[39;00m XGBClassifier\n\u001b[0;32m      7\u001b[0m \u001b[38;5;28;01mfrom\u001b[39;00m\u001b[38;5;250m \u001b[39m\u001b[38;5;21;01msklearn\u001b[39;00m\u001b[38;5;21;01m.\u001b[39;00m\u001b[38;5;21;01mmetrics\u001b[39;00m\u001b[38;5;250m \u001b[39m\u001b[38;5;28;01mimport\u001b[39;00m (\n\u001b[0;32m      8\u001b[0m     classification_report,\n\u001b[0;32m      9\u001b[0m     confusion_matrix,\n\u001b[0;32m     10\u001b[0m     roc_auc_score,\n\u001b[0;32m     11\u001b[0m )\n\u001b[1;32m---> 12\u001b[0m \u001b[38;5;28;01mimport\u001b[39;00m\u001b[38;5;250m \u001b[39m\u001b[38;5;21;01mshap\u001b[39;00m\n\u001b[0;32m     13\u001b[0m \u001b[38;5;28;01mimport\u001b[39;00m\u001b[38;5;250m \u001b[39m\u001b[38;5;21;01mjoblib\u001b[39;00m\n\u001b[0;32m     14\u001b[0m \u001b[38;5;28;01mimport\u001b[39;00m\u001b[38;5;250m \u001b[39m\u001b[38;5;21;01mshap\u001b[39;00m\n",
      "File \u001b[1;32mc:\\Users\\Henry\\Vs Code Projects\\Real-Time-Fraud-Detection-Pipeline\\Fraud-Detection-Analysis\\.venv\\Lib\\site-packages\\shap\\__init__.py:1\u001b[0m\n\u001b[1;32m----> 1\u001b[0m \u001b[38;5;28;01mfrom\u001b[39;00m\u001b[38;5;250m \u001b[39m\u001b[38;5;21;01m.\u001b[39;00m\u001b[38;5;21;01m_explanation\u001b[39;00m\u001b[38;5;250m \u001b[39m\u001b[38;5;28;01mimport\u001b[39;00m Cohorts, Explanation\n\u001b[0;32m      3\u001b[0m \u001b[38;5;66;03m# explainers\u001b[39;00m\n\u001b[0;32m      4\u001b[0m \u001b[38;5;28;01mfrom\u001b[39;00m\u001b[38;5;250m \u001b[39m\u001b[38;5;21;01m.\u001b[39;00m\u001b[38;5;21;01mexplainers\u001b[39;00m\u001b[38;5;250m \u001b[39m\u001b[38;5;28;01mimport\u001b[39;00m other\n",
      "File \u001b[1;32mc:\\Users\\Henry\\Vs Code Projects\\Real-Time-Fraud-Detection-Pipeline\\Fraud-Detection-Analysis\\.venv\\Lib\\site-packages\\shap\\_explanation.py:16\u001b[0m\n\u001b[0;32m     13\u001b[0m \u001b[38;5;28;01mimport\u001b[39;00m\u001b[38;5;250m \u001b[39m\u001b[38;5;21;01msklearn\u001b[39;00m\n\u001b[0;32m     14\u001b[0m \u001b[38;5;28;01mfrom\u001b[39;00m\u001b[38;5;250m \u001b[39m\u001b[38;5;21;01mslicer\u001b[39;00m\u001b[38;5;250m \u001b[39m\u001b[38;5;28;01mimport\u001b[39;00m Alias, Obj, Slicer\n\u001b[1;32m---> 16\u001b[0m \u001b[38;5;28;01mfrom\u001b[39;00m\u001b[38;5;250m \u001b[39m\u001b[38;5;21;01m.\u001b[39;00m\u001b[38;5;21;01mutils\u001b[39;00m\u001b[38;5;21;01m.\u001b[39;00m\u001b[38;5;21;01m_clustering\u001b[39;00m\u001b[38;5;250m \u001b[39m\u001b[38;5;28;01mimport\u001b[39;00m hclust_ordering\n\u001b[0;32m     17\u001b[0m \u001b[38;5;28;01mfrom\u001b[39;00m\u001b[38;5;250m \u001b[39m\u001b[38;5;21;01m.\u001b[39;00m\u001b[38;5;21;01mutils\u001b[39;00m\u001b[38;5;21;01m.\u001b[39;00m\u001b[38;5;21;01m_exceptions\u001b[39;00m\u001b[38;5;250m \u001b[39m\u001b[38;5;28;01mimport\u001b[39;00m DimensionError\n\u001b[0;32m     18\u001b[0m \u001b[38;5;28;01mfrom\u001b[39;00m\u001b[38;5;250m \u001b[39m\u001b[38;5;21;01m.\u001b[39;00m\u001b[38;5;21;01mutils\u001b[39;00m\u001b[38;5;21;01m.\u001b[39;00m\u001b[38;5;21;01m_general\u001b[39;00m\u001b[38;5;250m \u001b[39m\u001b[38;5;28;01mimport\u001b[39;00m OpChain\n",
      "File \u001b[1;32mc:\\Users\\Henry\\Vs Code Projects\\Real-Time-Fraud-Detection-Pipeline\\Fraud-Detection-Analysis\\.venv\\Lib\\site-packages\\shap\\utils\\__init__.py:1\u001b[0m\n\u001b[1;32m----> 1\u001b[0m \u001b[38;5;28;01mfrom\u001b[39;00m\u001b[38;5;250m \u001b[39m\u001b[38;5;21;01m.\u001b[39;00m\u001b[38;5;21;01m_clustering\u001b[39;00m\u001b[38;5;250m \u001b[39m\u001b[38;5;28;01mimport\u001b[39;00m (\n\u001b[0;32m      2\u001b[0m     delta_minimization_order,\n\u001b[0;32m      3\u001b[0m     hclust,\n\u001b[0;32m      4\u001b[0m     hclust_ordering,\n\u001b[0;32m      5\u001b[0m     partition_tree,\n\u001b[0;32m      6\u001b[0m     partition_tree_shuffle,\n\u001b[0;32m      7\u001b[0m )\n\u001b[0;32m      8\u001b[0m \u001b[38;5;28;01mfrom\u001b[39;00m\u001b[38;5;250m \u001b[39m\u001b[38;5;21;01m.\u001b[39;00m\u001b[38;5;21;01m_general\u001b[39;00m\u001b[38;5;250m \u001b[39m\u001b[38;5;28;01mimport\u001b[39;00m (\n\u001b[0;32m      9\u001b[0m     OpChain,\n\u001b[0;32m     10\u001b[0m     approximate_interactions,\n\u001b[1;32m   (...)\u001b[0m\n\u001b[0;32m     20\u001b[0m     suppress_stderr,\n\u001b[0;32m     21\u001b[0m )\n\u001b[0;32m     22\u001b[0m \u001b[38;5;28;01mfrom\u001b[39;00m\u001b[38;5;250m \u001b[39m\u001b[38;5;21;01m.\u001b[39;00m\u001b[38;5;21;01m_masked_model\u001b[39;00m\u001b[38;5;250m \u001b[39m\u001b[38;5;28;01mimport\u001b[39;00m MaskedModel, make_masks\n",
      "File \u001b[1;32mc:\\Users\\Henry\\Vs Code Projects\\Real-Time-Fraud-Detection-Pipeline\\Fraud-Detection-Analysis\\.venv\\Lib\\site-packages\\shap\\utils\\_clustering.py:12\u001b[0m\n\u001b[0;32m     10\u001b[0m \u001b[38;5;28;01mimport\u001b[39;00m\u001b[38;5;250m \u001b[39m\u001b[38;5;21;01mscipy\u001b[39;00m\u001b[38;5;21;01m.\u001b[39;00m\u001b[38;5;21;01mspatial\u001b[39;00m\n\u001b[0;32m     11\u001b[0m \u001b[38;5;28;01mimport\u001b[39;00m\u001b[38;5;250m \u001b[39m\u001b[38;5;21;01msklearn\u001b[39;00m\n\u001b[1;32m---> 12\u001b[0m \u001b[38;5;28;01mfrom\u001b[39;00m\u001b[38;5;250m \u001b[39m\u001b[38;5;21;01mnumba\u001b[39;00m\u001b[38;5;250m \u001b[39m\u001b[38;5;28;01mimport\u001b[39;00m njit\n\u001b[0;32m     14\u001b[0m \u001b[38;5;28;01mfrom\u001b[39;00m\u001b[38;5;250m \u001b[39m\u001b[38;5;21;01m.\u001b[39;00m\u001b[38;5;21;01m.\u001b[39;00m\u001b[38;5;21;01mutils\u001b[39;00m\u001b[38;5;21;01m.\u001b[39;00m\u001b[38;5;21;01m_exceptions\u001b[39;00m\u001b[38;5;250m \u001b[39m\u001b[38;5;28;01mimport\u001b[39;00m DimensionError\n\u001b[0;32m     15\u001b[0m \u001b[38;5;28;01mfrom\u001b[39;00m\u001b[38;5;250m \u001b[39m\u001b[38;5;21;01m.\u001b[39;00m\u001b[38;5;21;01m_show_progress\u001b[39;00m\u001b[38;5;250m \u001b[39m\u001b[38;5;28;01mimport\u001b[39;00m show_progress\n",
      "File \u001b[1;32mc:\\Users\\Henry\\Vs Code Projects\\Real-Time-Fraud-Detection-Pipeline\\Fraud-Detection-Analysis\\.venv\\Lib\\site-packages\\numba\\__init__.py:59\u001b[0m\n\u001b[0;32m     54\u001b[0m             msg \u001b[38;5;241m=\u001b[39m (\u001b[38;5;124m\"\u001b[39m\u001b[38;5;124mNumba requires SciPy version 1.0 or greater. Got SciPy \u001b[39m\u001b[38;5;124m\"\u001b[39m\n\u001b[0;32m     55\u001b[0m                    \u001b[38;5;124mf\u001b[39m\u001b[38;5;124m\"\u001b[39m\u001b[38;5;132;01m{\u001b[39;00mscipy\u001b[38;5;241m.\u001b[39m__version__\u001b[38;5;132;01m}\u001b[39;00m\u001b[38;5;124m.\u001b[39m\u001b[38;5;124m\"\u001b[39m)\n\u001b[0;32m     56\u001b[0m             \u001b[38;5;28;01mraise\u001b[39;00m \u001b[38;5;167;01mImportError\u001b[39;00m(msg)\n\u001b[1;32m---> 59\u001b[0m \u001b[43m_ensure_critical_deps\u001b[49m\u001b[43m(\u001b[49m\u001b[43m)\u001b[49m\n\u001b[0;32m     60\u001b[0m \u001b[38;5;66;03m# END DO NOT MOVE\u001b[39;00m\n\u001b[0;32m     61\u001b[0m \u001b[38;5;66;03m# ---------------------- WARNING WARNING WARNING ----------------------------\u001b[39;00m\n\u001b[0;32m     64\u001b[0m \u001b[38;5;28;01mfrom\u001b[39;00m\u001b[38;5;250m \u001b[39m\u001b[38;5;21;01m.\u001b[39;00m\u001b[38;5;21;01m_version\u001b[39;00m\u001b[38;5;250m \u001b[39m\u001b[38;5;28;01mimport\u001b[39;00m get_versions\n",
      "File \u001b[1;32mc:\\Users\\Henry\\Vs Code Projects\\Real-Time-Fraud-Detection-Pipeline\\Fraud-Detection-Analysis\\.venv\\Lib\\site-packages\\numba\\__init__.py:45\u001b[0m, in \u001b[0;36m_ensure_critical_deps\u001b[1;34m()\u001b[0m\n\u001b[0;32m     42\u001b[0m \u001b[38;5;28;01mif\u001b[39;00m numpy_version \u001b[38;5;241m>\u001b[39m (\u001b[38;5;241m2\u001b[39m, \u001b[38;5;241m1\u001b[39m):\n\u001b[0;32m     43\u001b[0m     msg \u001b[38;5;241m=\u001b[39m (\u001b[38;5;124mf\u001b[39m\u001b[38;5;124m\"\u001b[39m\u001b[38;5;124mNumba needs NumPy 2.1 or less. Got NumPy \u001b[39m\u001b[38;5;124m\"\u001b[39m\n\u001b[0;32m     44\u001b[0m            \u001b[38;5;124mf\u001b[39m\u001b[38;5;124m\"\u001b[39m\u001b[38;5;132;01m{\u001b[39;00mnumpy_version[\u001b[38;5;241m0\u001b[39m]\u001b[38;5;132;01m}\u001b[39;00m\u001b[38;5;124m.\u001b[39m\u001b[38;5;132;01m{\u001b[39;00mnumpy_version[\u001b[38;5;241m1\u001b[39m]\u001b[38;5;132;01m}\u001b[39;00m\u001b[38;5;124m.\u001b[39m\u001b[38;5;124m\"\u001b[39m)\n\u001b[1;32m---> 45\u001b[0m     \u001b[38;5;28;01mraise\u001b[39;00m \u001b[38;5;167;01mImportError\u001b[39;00m(msg)\n\u001b[0;32m     47\u001b[0m \u001b[38;5;28;01mtry\u001b[39;00m:\n\u001b[0;32m     48\u001b[0m     \u001b[38;5;28;01mimport\u001b[39;00m\u001b[38;5;250m \u001b[39m\u001b[38;5;21;01mscipy\u001b[39;00m\n",
      "\u001b[1;31mImportError\u001b[0m: Numba needs NumPy 2.1 or less. Got NumPy 2.2."
     ]
    }
   ],
   "source": [
    "import pandas as pd\n",
    "import numpy as np\n",
    "from sklearn.model_selection import train_test_split\n",
    "from sklearn.impute import SimpleImputer\n",
    "from sklearn.preprocessing import LabelEncoder\n",
    "from xgboost import XGBClassifier\n",
    "from sklearn.metrics import (\n",
    "    classification_report,\n",
    "    confusion_matrix,\n",
    "    roc_auc_score,\n",
    ")\n",
    "import shap\n",
    "import joblib\n",
    "import shap\n",
    "import os\n",
    "from imblearn.metrics import geometric_mean_score"
   ]
  },
  {
   "cell_type": "markdown",
   "metadata": {},
   "source": [
    "These fields are either:\n",
    "- Not available during real-time inference (e.g., transaction_id)\n",
    "- Too high-cardinality for tree models (ip_address, user_agent)\n",
    "- Not adding predictive value or cause input bloat in Triton"
   ]
  },
  {
   "cell_type": "markdown",
   "metadata": {},
   "source": [
    "#### Label and Feature Separation"
   ]
  },
  {
   "cell_type": "code",
   "execution_count": 13,
   "metadata": {},
   "outputs": [],
   "source": [
    "target = \"is_fraud\"\n",
    "X = df.drop(columns=[target])\n",
    "y = df[target]"
   ]
  },
  {
   "cell_type": "markdown",
   "metadata": {},
   "source": [
    "#### Imputation and Encoding"
   ]
  },
  {
   "cell_type": "code",
   "execution_count": 14,
   "metadata": {},
   "outputs": [],
   "source": [
    "from sklearn.preprocessing import OrdinalEncoder\n",
    "\n",
    "categorical_cols = [\n",
    "    \"currency\",\n",
    "    \"transaction_type\",\n",
    "    \"country\",\n",
    "    \"device_type\",\n",
    "    \"operating_system\",\n",
    "    \"app_version\",\n",
    "    \"timezone\",\n",
    "    \"ISP\",\n",
    "]\n",
    "\n",
    "ordinal_encoder = OrdinalEncoder(handle_unknown=\"use_encoded_value\", unknown_value=-1)\n",
    "X[categorical_cols] = ordinal_encoder.fit_transform(X[categorical_cols])"
   ]
  },
  {
   "cell_type": "markdown",
   "metadata": {},
   "source": [
    "1. Label/Ordinal Encoding is better for XGBoost, which handles category splits natively.\n",
    "2. One-hot encoding causes dimensionality explosion, unnecessary with tree models.\n",
    "3. Triton expects fixed input shape, so we avoid sparse/dynamic one-hot formats."
   ]
  },
  {
   "cell_type": "code",
   "execution_count": 15,
   "metadata": {},
   "outputs": [],
   "source": [
    "from sklearn.impute import SimpleImputer\n",
    "\n",
    "numeric_cols = [\n",
    "    \"amount\",\n",
    "    \"avg_spend_30d\",\n",
    "    \"transactions_last_7d\",\n",
    "    \"time_since_last_login\",\n",
    "    \"login_attempts_last_24h\",\n",
    "    \"ip_risk_score\",\n",
    "    \"latitude\",\n",
    "    \"longitude\",\n",
    "]\n",
    "\n",
    "imputer = SimpleImputer(strategy=\"median\")\n",
    "X[numeric_cols] = imputer.fit_transform(X[numeric_cols])"
   ]
  },
  {
   "cell_type": "markdown",
   "metadata": {},
   "source": [
    "- Median imputation is robust to outliers and common for fraud datasets (due to skewed features like amount).\n",
    "- Keeps the numerical shape consistent for Triton inference."
   ]
  },
  {
   "cell_type": "markdown",
   "metadata": {},
   "source": [
    "#### Train-Test Split"
   ]
  },
  {
   "cell_type": "code",
   "execution_count": 16,
   "metadata": {},
   "outputs": [],
   "source": [
    "from sklearn.model_selection import train_test_split\n",
    "\n",
    "X_train, X_val, y_train, y_val = train_test_split(\n",
    "    X, y, test_size=0.2, stratify=y, random_state=42\n",
    ")"
   ]
  },
  {
   "cell_type": "markdown",
   "metadata": {},
   "source": [
    "#### Model Training"
   ]
  },
  {
   "cell_type": "code",
   "execution_count": 20,
   "metadata": {},
   "outputs": [
    {
     "ename": "ValueError",
     "evalue": "DataFrame.dtypes for data must be int, float, bool or category. When categorical type is supplied, the experimental DMatrix parameter`enable_categorical` must be set to `True`.  Invalid columns:city: object",
     "output_type": "error",
     "traceback": [
      "\u001b[1;31m---------------------------------------------------------------------------\u001b[0m",
      "\u001b[1;31mValueError\u001b[0m                                Traceback (most recent call last)",
      "Cell \u001b[1;32mIn[20], line 27\u001b[0m\n\u001b[0;32m     10\u001b[0m scale_pos_weight \u001b[38;5;241m=\u001b[39m (\u001b[38;5;28mlen\u001b[39m(y_train) \u001b[38;5;241m-\u001b[39m \u001b[38;5;28msum\u001b[39m(y_train)) \u001b[38;5;241m/\u001b[39m \u001b[38;5;28msum\u001b[39m(y_train)\n\u001b[0;32m     12\u001b[0m model \u001b[38;5;241m=\u001b[39m XGBClassifier(\n\u001b[0;32m     13\u001b[0m     objective\u001b[38;5;241m=\u001b[39m\u001b[38;5;124m\"\u001b[39m\u001b[38;5;124mbinary:logistic\u001b[39m\u001b[38;5;124m\"\u001b[39m,\n\u001b[0;32m     14\u001b[0m     eval_metric\u001b[38;5;241m=\u001b[39m\u001b[38;5;124m\"\u001b[39m\u001b[38;5;124mauc\u001b[39m\u001b[38;5;124m\"\u001b[39m,\n\u001b[1;32m   (...)\u001b[0m\n\u001b[0;32m     24\u001b[0m     use_label_encoder\u001b[38;5;241m=\u001b[39m\u001b[38;5;28;01mFalse\u001b[39;00m,\n\u001b[0;32m     25\u001b[0m )\n\u001b[1;32m---> 27\u001b[0m \u001b[43mmodel\u001b[49m\u001b[38;5;241;43m.\u001b[39;49m\u001b[43mfit\u001b[49m\u001b[43m(\u001b[49m\n\u001b[0;32m     28\u001b[0m \u001b[43m    \u001b[49m\u001b[43mX_train\u001b[49m\u001b[43m,\u001b[49m\n\u001b[0;32m     29\u001b[0m \u001b[43m    \u001b[49m\u001b[43my_train\u001b[49m\u001b[43m,\u001b[49m\n\u001b[0;32m     30\u001b[0m \u001b[43m    \u001b[49m\u001b[43mverbose\u001b[49m\u001b[38;5;241;43m=\u001b[39;49m\u001b[38;5;28;43;01mTrue\u001b[39;49;00m\u001b[43m,\u001b[49m\n\u001b[0;32m     31\u001b[0m \u001b[43m)\u001b[49m\n",
      "File \u001b[1;32mc:\\Users\\Henry\\Vs Code Projects\\Real-Time-Fraud-Detection-Pipeline\\Fraud-Detection-Analysis\\.venv\\Lib\\site-packages\\xgboost\\core.py:726\u001b[0m, in \u001b[0;36mrequire_keyword_args.<locals>.throw_if.<locals>.inner_f\u001b[1;34m(*args, **kwargs)\u001b[0m\n\u001b[0;32m    724\u001b[0m \u001b[38;5;28;01mfor\u001b[39;00m k, arg \u001b[38;5;129;01min\u001b[39;00m \u001b[38;5;28mzip\u001b[39m(sig\u001b[38;5;241m.\u001b[39mparameters, args):\n\u001b[0;32m    725\u001b[0m     kwargs[k] \u001b[38;5;241m=\u001b[39m arg\n\u001b[1;32m--> 726\u001b[0m \u001b[38;5;28;01mreturn\u001b[39;00m \u001b[43mfunc\u001b[49m\u001b[43m(\u001b[49m\u001b[38;5;241;43m*\u001b[39;49m\u001b[38;5;241;43m*\u001b[39;49m\u001b[43mkwargs\u001b[49m\u001b[43m)\u001b[49m\n",
      "File \u001b[1;32mc:\\Users\\Henry\\Vs Code Projects\\Real-Time-Fraud-Detection-Pipeline\\Fraud-Detection-Analysis\\.venv\\Lib\\site-packages\\xgboost\\sklearn.py:1580\u001b[0m, in \u001b[0;36mfit\u001b[1;34m(self, X, y, sample_weight, base_margin, eval_set, verbose, xgb_model, sample_weight_eval_set, base_margin_eval_set, feature_weights)\u001b[0m\n\u001b[0;32m   1564\u001b[0m     return vstack((classzero_probs, classone_probs)).transpose()\n\u001b[0;32m   1567\u001b[0m @xgboost_model_doc(\n\u001b[0;32m   1568\u001b[0m     \"Implementation of the scikit-learn API for XGBoost classification.\",\n\u001b[0;32m   1569\u001b[0m     [\"model\", \"objective\"],\n\u001b[1;32m   (...)\u001b[0m\n\u001b[0;32m   1575\u001b[0m class XGBClassifier(XGBClassifierBase, XGBModel):\n\u001b[0;32m   1576\u001b[0m     # pylint: disable=missing-docstring,invalid-name,too-many-instance-attributes\n\u001b[0;32m   1577\u001b[0m     @_deprecate_positional_args\n\u001b[0;32m   1578\u001b[0m     def __init__(\n\u001b[0;32m   1579\u001b[0m         self,\n\u001b[1;32m-> 1580\u001b[0m         *,\n\u001b[0;32m   1581\u001b[0m         objective: SklObjective = \"binary:logistic\",\n\u001b[0;32m   1582\u001b[0m         **kwargs: Any,\n\u001b[0;32m   1583\u001b[0m     ) -> None:\n\u001b[0;32m   1584\u001b[0m         super().__init__(objective=objective, **kwargs)\n\u001b[0;32m   1586\u001b[0m     def _more_tags(self) -> Dict[str, bool]:\n",
      "File \u001b[1;32mc:\\Users\\Henry\\Vs Code Projects\\Real-Time-Fraud-Detection-Pipeline\\Fraud-Detection-Analysis\\.venv\\Lib\\site-packages\\xgboost\\sklearn.py:603\u001b[0m, in \u001b[0;36m_wrap_evaluation_matrices\u001b[1;34m(missing, X, y, group, qid, sample_weight, base_margin, feature_weights, eval_set, sample_weight_eval_set, base_margin_eval_set, eval_group, eval_qid, create_dmatrix, enable_categorical, feature_types)\u001b[0m\n\u001b[0;32m      0\u001b[0m <Error retrieving source code with stack_data see ipython/ipython#13598>\n",
      "File \u001b[1;32mc:\\Users\\Henry\\Vs Code Projects\\Real-Time-Fraud-Detection-Pipeline\\Fraud-Detection-Analysis\\.venv\\Lib\\site-packages\\xgboost\\sklearn.py:1065\u001b[0m, in \u001b[0;36m_create_dmatrix\u001b[1;34m(self, ref, **kwargs)\u001b[0m\n\u001b[0;32m   1063\u001b[0m \u001b[38;5;28mself\u001b[39m\u001b[38;5;241m.\u001b[39mbooster \u001b[38;5;241m=\u001b[39m config[\u001b[38;5;124m\"\u001b[39m\u001b[38;5;124mlearner\u001b[39m\u001b[38;5;124m\"\u001b[39m][\u001b[38;5;124m\"\u001b[39m\u001b[38;5;124mgradient_booster\u001b[39m\u001b[38;5;124m\"\u001b[39m][\u001b[38;5;124m\"\u001b[39m\u001b[38;5;124mname\u001b[39m\u001b[38;5;124m\"\u001b[39m]\n\u001b[0;32m   1064\u001b[0m \u001b[38;5;28mself\u001b[39m\u001b[38;5;241m.\u001b[39mbase_score \u001b[38;5;241m=\u001b[39m config[\u001b[38;5;124m\"\u001b[39m\u001b[38;5;124mlearner\u001b[39m\u001b[38;5;124m\"\u001b[39m][\u001b[38;5;124m\"\u001b[39m\u001b[38;5;124mlearner_model_param\u001b[39m\u001b[38;5;124m\"\u001b[39m][\u001b[38;5;124m\"\u001b[39m\u001b[38;5;124mbase_score\u001b[39m\u001b[38;5;124m\"\u001b[39m]\n\u001b[1;32m-> 1065\u001b[0m \u001b[38;5;28mself\u001b[39m\u001b[38;5;241m.\u001b[39mfeature_types \u001b[38;5;241m=\u001b[39m booster\u001b[38;5;241m.\u001b[39mfeature_types\n\u001b[0;32m   1067\u001b[0m \u001b[38;5;28;01mif\u001b[39;00m is_classifier(\u001b[38;5;28mself\u001b[39m):\n\u001b[0;32m   1068\u001b[0m     \u001b[38;5;28mself\u001b[39m\u001b[38;5;241m.\u001b[39mn_classes_ \u001b[38;5;241m=\u001b[39m \u001b[38;5;28mint\u001b[39m(config[\u001b[38;5;124m\"\u001b[39m\u001b[38;5;124mlearner\u001b[39m\u001b[38;5;124m\"\u001b[39m][\u001b[38;5;124m\"\u001b[39m\u001b[38;5;124mlearner_model_param\u001b[39m\u001b[38;5;124m\"\u001b[39m][\u001b[38;5;124m\"\u001b[39m\u001b[38;5;124mnum_class\u001b[39m\u001b[38;5;124m\"\u001b[39m])\n",
      "File \u001b[1;32mc:\\Users\\Henry\\Vs Code Projects\\Real-Time-Fraud-Detection-Pipeline\\Fraud-Detection-Analysis\\.venv\\Lib\\site-packages\\xgboost\\core.py:726\u001b[0m, in \u001b[0;36mrequire_keyword_args.<locals>.throw_if.<locals>.inner_f\u001b[1;34m(*args, **kwargs)\u001b[0m\n\u001b[0;32m    724\u001b[0m \u001b[38;5;28;01mfor\u001b[39;00m k, arg \u001b[38;5;129;01min\u001b[39;00m \u001b[38;5;28mzip\u001b[39m(sig\u001b[38;5;241m.\u001b[39mparameters, args):\n\u001b[0;32m    725\u001b[0m     kwargs[k] \u001b[38;5;241m=\u001b[39m arg\n\u001b[1;32m--> 726\u001b[0m \u001b[38;5;28;01mreturn\u001b[39;00m \u001b[43mfunc\u001b[49m\u001b[43m(\u001b[49m\u001b[38;5;241;43m*\u001b[39;49m\u001b[38;5;241;43m*\u001b[39;49m\u001b[43mkwargs\u001b[49m\u001b[43m)\u001b[49m\n",
      "File \u001b[1;32mc:\\Users\\Henry\\Vs Code Projects\\Real-Time-Fraud-Detection-Pipeline\\Fraud-Detection-Analysis\\.venv\\Lib\\site-packages\\xgboost\\core.py:1573\u001b[0m, in \u001b[0;36m__init__\u001b[1;34m(self, data, label, weight, base_margin, missing, silent, feature_names, feature_types, nthread, max_bin, ref, group, qid, label_lower_bound, label_upper_bound, feature_weights, enable_categorical, data_split_mode)\u001b[0m\n\u001b[0;32m   1494\u001b[0m \u001b[38;5;28;01mclass\u001b[39;00m\u001b[38;5;250m \u001b[39m\u001b[38;5;21;01mQuantileDMatrix\u001b[39;00m(DMatrix, _RefMixIn):\n\u001b[0;32m   1495\u001b[0m \u001b[38;5;250m    \u001b[39m\u001b[38;5;124;03m\"\"\"A DMatrix variant that generates quantilized data directly from input for the\u001b[39;00m\n\u001b[0;32m   1496\u001b[0m \u001b[38;5;124;03m    ``hist`` tree method. This DMatrix is primarily designed to save memory in training\u001b[39;00m\n\u001b[0;32m   1497\u001b[0m \u001b[38;5;124;03m    by avoiding intermediate storage. Set ``max_bin`` to control the number of bins\u001b[39;00m\n\u001b[1;32m   (...)\u001b[0m\n\u001b[0;32m   1552\u001b[0m \n\u001b[0;32m   1553\u001b[0m \u001b[38;5;124;03m    \"\"\"\u001b[39;00m\n\u001b[0;32m   1555\u001b[0m     \u001b[38;5;129m@_deprecate_positional_args\u001b[39m\n\u001b[0;32m   1556\u001b[0m     \u001b[38;5;28;01mdef\u001b[39;00m\u001b[38;5;250m \u001b[39m\u001b[38;5;21m__init__\u001b[39m(  \u001b[38;5;66;03m# pylint: disable=super-init-not-called\u001b[39;00m\n\u001b[0;32m   1557\u001b[0m         \u001b[38;5;28mself\u001b[39m,\n\u001b[0;32m   1558\u001b[0m         data: DataType,\n\u001b[0;32m   1559\u001b[0m         label: Optional[ArrayLike] \u001b[38;5;241m=\u001b[39m \u001b[38;5;28;01mNone\u001b[39;00m,\n\u001b[0;32m   1560\u001b[0m         \u001b[38;5;241m*\u001b[39m,\n\u001b[0;32m   1561\u001b[0m         weight: Optional[ArrayLike] \u001b[38;5;241m=\u001b[39m \u001b[38;5;28;01mNone\u001b[39;00m,\n\u001b[0;32m   1562\u001b[0m         base_margin: Optional[ArrayLike] \u001b[38;5;241m=\u001b[39m \u001b[38;5;28;01mNone\u001b[39;00m,\n\u001b[0;32m   1563\u001b[0m         missing: Optional[\u001b[38;5;28mfloat\u001b[39m] \u001b[38;5;241m=\u001b[39m \u001b[38;5;28;01mNone\u001b[39;00m,\n\u001b[0;32m   1564\u001b[0m         silent: \u001b[38;5;28mbool\u001b[39m \u001b[38;5;241m=\u001b[39m \u001b[38;5;28;01mFalse\u001b[39;00m,\n\u001b[0;32m   1565\u001b[0m         feature_names: Optional[FeatureNames] \u001b[38;5;241m=\u001b[39m \u001b[38;5;28;01mNone\u001b[39;00m,\n\u001b[0;32m   1566\u001b[0m         feature_types: Optional[FeatureTypes] \u001b[38;5;241m=\u001b[39m \u001b[38;5;28;01mNone\u001b[39;00m,\n\u001b[0;32m   1567\u001b[0m         nthread: Optional[\u001b[38;5;28mint\u001b[39m] \u001b[38;5;241m=\u001b[39m \u001b[38;5;28;01mNone\u001b[39;00m,\n\u001b[0;32m   1568\u001b[0m         max_bin: Optional[\u001b[38;5;28mint\u001b[39m] \u001b[38;5;241m=\u001b[39m \u001b[38;5;28;01mNone\u001b[39;00m,\n\u001b[0;32m   1569\u001b[0m         ref: Optional[DMatrix] \u001b[38;5;241m=\u001b[39m \u001b[38;5;28;01mNone\u001b[39;00m,\n\u001b[0;32m   1570\u001b[0m         group: Optional[ArrayLike] \u001b[38;5;241m=\u001b[39m \u001b[38;5;28;01mNone\u001b[39;00m,\n\u001b[0;32m   1571\u001b[0m         qid: Optional[ArrayLike] \u001b[38;5;241m=\u001b[39m \u001b[38;5;28;01mNone\u001b[39;00m,\n\u001b[0;32m   1572\u001b[0m         label_lower_bound: Optional[ArrayLike] \u001b[38;5;241m=\u001b[39m \u001b[38;5;28;01mNone\u001b[39;00m,\n\u001b[1;32m-> 1573\u001b[0m         label_upper_bound: Optional[ArrayLike] \u001b[38;5;241m=\u001b[39m \u001b[38;5;28;01mNone\u001b[39;00m,\n\u001b[0;32m   1574\u001b[0m         feature_weights: Optional[ArrayLike] \u001b[38;5;241m=\u001b[39m \u001b[38;5;28;01mNone\u001b[39;00m,\n\u001b[0;32m   1575\u001b[0m         enable_categorical: \u001b[38;5;28mbool\u001b[39m \u001b[38;5;241m=\u001b[39m \u001b[38;5;28;01mFalse\u001b[39;00m,\n\u001b[0;32m   1576\u001b[0m         max_quantile_batches: Optional[\u001b[38;5;28mint\u001b[39m] \u001b[38;5;241m=\u001b[39m \u001b[38;5;28;01mNone\u001b[39;00m,\n\u001b[0;32m   1577\u001b[0m         data_split_mode: DataSplitMode \u001b[38;5;241m=\u001b[39m DataSplitMode\u001b[38;5;241m.\u001b[39mROW,\n\u001b[0;32m   1578\u001b[0m     ) \u001b[38;5;241m-\u001b[39m\u001b[38;5;241m>\u001b[39m \u001b[38;5;28;01mNone\u001b[39;00m:\n\u001b[0;32m   1579\u001b[0m         \u001b[38;5;28mself\u001b[39m\u001b[38;5;241m.\u001b[39mmax_bin \u001b[38;5;241m=\u001b[39m max_bin\n\u001b[0;32m   1580\u001b[0m         \u001b[38;5;28mself\u001b[39m\u001b[38;5;241m.\u001b[39mmissing \u001b[38;5;241m=\u001b[39m missing \u001b[38;5;28;01mif\u001b[39;00m missing \u001b[38;5;129;01mis\u001b[39;00m \u001b[38;5;129;01mnot\u001b[39;00m \u001b[38;5;28;01mNone\u001b[39;00m \u001b[38;5;28;01melse\u001b[39;00m np\u001b[38;5;241m.\u001b[39mnan\n",
      "File \u001b[1;32mc:\\Users\\Henry\\Vs Code Projects\\Real-Time-Fraud-Detection-Pipeline\\Fraud-Detection-Analysis\\.venv\\Lib\\site-packages\\xgboost\\core.py:1632\u001b[0m, in \u001b[0;36m_init\u001b[1;34m(self, data, ref, enable_categorical, **meta)\u001b[0m\n\u001b[0;32m   1609\u001b[0m             \u001b[38;5;28;01mraise\u001b[39;00m \u001b[38;5;167;01mValueError\u001b[39;00m(\n\u001b[0;32m   1610\u001b[0m                 \u001b[38;5;124m\"\u001b[39m\u001b[38;5;124mIf data iterator is used as input, data like label should be \u001b[39m\u001b[38;5;124m\"\u001b[39m\n\u001b[0;32m   1611\u001b[0m                 \u001b[38;5;124m\"\u001b[39m\u001b[38;5;124mspecified as batch argument.\u001b[39m\u001b[38;5;124m\"\u001b[39m\n\u001b[0;32m   1612\u001b[0m             )\n\u001b[0;32m   1614\u001b[0m     \u001b[38;5;28mself\u001b[39m\u001b[38;5;241m.\u001b[39m_init(\n\u001b[0;32m   1615\u001b[0m         data,\n\u001b[0;32m   1616\u001b[0m         ref\u001b[38;5;241m=\u001b[39mref,\n\u001b[1;32m   (...)\u001b[0m\n\u001b[0;32m   1628\u001b[0m         max_quantile_blocks\u001b[38;5;241m=\u001b[39mmax_quantile_batches,\n\u001b[0;32m   1629\u001b[0m     )\n\u001b[0;32m   1631\u001b[0m \u001b[38;5;28;01mdef\u001b[39;00m\u001b[38;5;250m \u001b[39m\u001b[38;5;21m_init\u001b[39m(\n\u001b[1;32m-> 1632\u001b[0m     \u001b[38;5;28mself\u001b[39m,\n\u001b[0;32m   1633\u001b[0m     data: DataType,\n\u001b[0;32m   1634\u001b[0m     ref: Optional[DMatrix],\n\u001b[0;32m   1635\u001b[0m     enable_categorical: \u001b[38;5;28mbool\u001b[39m,\n\u001b[0;32m   1636\u001b[0m     max_quantile_blocks: Optional[\u001b[38;5;28mint\u001b[39m],\n\u001b[0;32m   1637\u001b[0m     \u001b[38;5;241m*\u001b[39m\u001b[38;5;241m*\u001b[39mmeta: Any,\n\u001b[0;32m   1638\u001b[0m ) \u001b[38;5;241m-\u001b[39m\u001b[38;5;241m>\u001b[39m \u001b[38;5;28;01mNone\u001b[39;00m:\n\u001b[0;32m   1639\u001b[0m     \u001b[38;5;28;01mfrom\u001b[39;00m\u001b[38;5;250m \u001b[39m\u001b[38;5;21;01m.\u001b[39;00m\u001b[38;5;21;01mdata\u001b[39;00m\u001b[38;5;250m \u001b[39m\u001b[38;5;28;01mimport\u001b[39;00m (\n\u001b[0;32m   1640\u001b[0m         SingleBatchInternalIter,\n\u001b[0;32m   1641\u001b[0m         _is_dlpack,\n\u001b[0;32m   1642\u001b[0m         _is_iter,\n\u001b[0;32m   1643\u001b[0m         _transform_dlpack,\n\u001b[0;32m   1644\u001b[0m     )\n\u001b[0;32m   1646\u001b[0m     \u001b[38;5;28;01mif\u001b[39;00m _is_dlpack(data):\n\u001b[0;32m   1647\u001b[0m         \u001b[38;5;66;03m# We specialize for dlpack because cupy will take the memory from it so\u001b[39;00m\n\u001b[0;32m   1648\u001b[0m         \u001b[38;5;66;03m# it can't be transformed twice.\u001b[39;00m\n",
      "File \u001b[1;32mc:\\Users\\Henry\\Vs Code Projects\\Real-Time-Fraud-Detection-Pipeline\\Fraud-Detection-Analysis\\.venv\\Lib\\site-packages\\xgboost\\core.py:569\u001b[0m, in \u001b[0;36mreraise\u001b[1;34m(self)\u001b[0m\n\u001b[0;32m    565\u001b[0m \"\"\"Reraise the exception thrown during iteration.\"\"\"\n\u001b[0;32m    566\u001b[0m self._temporary_data = None\n\u001b[0;32m    567\u001b[0m if self._exception is not None:\n\u001b[0;32m    568\u001b[0m     #  pylint 2.7.0 believes `self._exception` can be None even with `assert\n\u001b[1;32m--> 569\u001b[0m     #  isinstace`\n\u001b[0;32m    570\u001b[0m     exc = self._exception\n\u001b[0;32m    571\u001b[0m     self._exception = None\n",
      "File \u001b[1;32mc:\\Users\\Henry\\Vs Code Projects\\Real-Time-Fraud-Detection-Pipeline\\Fraud-Detection-Analysis\\.venv\\Lib\\site-packages\\xgboost\\core.py:550\u001b[0m, in \u001b[0;36m_handle_exception\u001b[1;34m(self, fn, dft_ret)\u001b[0m\n\u001b[0;32m    548\u001b[0m \u001b[38;5;28;01mdef\u001b[39;00m\u001b[38;5;250m \u001b[39m\u001b[38;5;21m_handle_exception\u001b[39m(\u001b[38;5;28mself\u001b[39m, fn: Callable, dft_ret: _T) \u001b[38;5;241m-\u001b[39m\u001b[38;5;241m>\u001b[39m _T:\n\u001b[0;32m    549\u001b[0m     \u001b[38;5;28;01mif\u001b[39;00m \u001b[38;5;28mself\u001b[39m\u001b[38;5;241m.\u001b[39m_exception \u001b[38;5;129;01mis\u001b[39;00m \u001b[38;5;129;01mnot\u001b[39;00m \u001b[38;5;28;01mNone\u001b[39;00m:\n\u001b[1;32m--> 550\u001b[0m         \u001b[38;5;28;01mreturn\u001b[39;00m dft_ret\n\u001b[0;32m    552\u001b[0m     \u001b[38;5;28;01mtry\u001b[39;00m:\n\u001b[0;32m    553\u001b[0m         \u001b[38;5;28;01mreturn\u001b[39;00m fn()\n",
      "File \u001b[1;32mc:\\Users\\Henry\\Vs Code Projects\\Real-Time-Fraud-Detection-Pipeline\\Fraud-Detection-Analysis\\.venv\\Lib\\site-packages\\xgboost\\core.py:637\u001b[0m, in \u001b[0;36m<lambda>\u001b[1;34m()\u001b[0m\n\u001b[0;32m    634\u001b[0m     \u001b[38;5;28mself\u001b[39m\u001b[38;5;241m.\u001b[39m_data_ref \u001b[38;5;241m=\u001b[39m ref\n\u001b[0;32m    636\u001b[0m \u001b[38;5;66;03m# Release the data before next batch is loaded.\u001b[39;00m\n\u001b[1;32m--> 637\u001b[0m \u001b[38;5;28;01mif\u001b[39;00m \u001b[38;5;28mself\u001b[39m\u001b[38;5;241m.\u001b[39m_release:\n\u001b[0;32m    638\u001b[0m     \u001b[38;5;28mself\u001b[39m\u001b[38;5;241m.\u001b[39m_temporary_data \u001b[38;5;241m=\u001b[39m \u001b[38;5;28;01mNone\u001b[39;00m\n\u001b[0;32m    639\u001b[0m \u001b[38;5;66;03m# pylint: disable=not-callable\u001b[39;00m\n",
      "File \u001b[1;32mc:\\Users\\Henry\\Vs Code Projects\\Real-Time-Fraud-Detection-Pipeline\\Fraud-Detection-Analysis\\.venv\\Lib\\site-packages\\xgboost\\data.py:1402\u001b[0m, in \u001b[0;36mnext\u001b[1;34m(self, input_data)\u001b[0m\n\u001b[0;32m   1393\u001b[0m     \u001b[38;5;28;01mreturn\u001b[39;00m _from_list(\n\u001b[0;32m   1394\u001b[0m         data\u001b[38;5;241m=\u001b[39mdata,\n\u001b[0;32m   1395\u001b[0m         missing\u001b[38;5;241m=\u001b[39mmissing,\n\u001b[1;32m   (...)\u001b[0m\n\u001b[0;32m   1399\u001b[0m         data_split_mode\u001b[38;5;241m=\u001b[39mdata_split_mode,\n\u001b[0;32m   1400\u001b[0m     )\n\u001b[0;32m   1401\u001b[0m \u001b[38;5;28;01mif\u001b[39;00m _is_tuple(data):\n\u001b[1;32m-> 1402\u001b[0m     \u001b[38;5;28;01mreturn\u001b[39;00m _from_tuple(\n\u001b[0;32m   1403\u001b[0m         data\u001b[38;5;241m=\u001b[39mdata,\n\u001b[0;32m   1404\u001b[0m         missing\u001b[38;5;241m=\u001b[39mmissing,\n\u001b[0;32m   1405\u001b[0m         n_threads\u001b[38;5;241m=\u001b[39mthreads,\n\u001b[0;32m   1406\u001b[0m         feature_names\u001b[38;5;241m=\u001b[39mfeature_names,\n\u001b[0;32m   1407\u001b[0m         feature_types\u001b[38;5;241m=\u001b[39mfeature_types,\n\u001b[0;32m   1408\u001b[0m         data_split_mode\u001b[38;5;241m=\u001b[39mdata_split_mode,\n\u001b[0;32m   1409\u001b[0m     )\n\u001b[0;32m   1410\u001b[0m \u001b[38;5;28;01mif\u001b[39;00m _is_polars_series(data):\n\u001b[0;32m   1411\u001b[0m     pl \u001b[38;5;241m=\u001b[39m import_polars()\n",
      "File \u001b[1;32mc:\\Users\\Henry\\Vs Code Projects\\Real-Time-Fraud-Detection-Pipeline\\Fraud-Detection-Analysis\\.venv\\Lib\\site-packages\\xgboost\\core.py:726\u001b[0m, in \u001b[0;36mrequire_keyword_args.<locals>.throw_if.<locals>.inner_f\u001b[1;34m(*args, **kwargs)\u001b[0m\n\u001b[0;32m    724\u001b[0m \u001b[38;5;28;01mfor\u001b[39;00m k, arg \u001b[38;5;129;01min\u001b[39;00m \u001b[38;5;28mzip\u001b[39m(sig\u001b[38;5;241m.\u001b[39mparameters, args):\n\u001b[0;32m    725\u001b[0m     kwargs[k] \u001b[38;5;241m=\u001b[39m arg\n\u001b[1;32m--> 726\u001b[0m \u001b[38;5;28;01mreturn\u001b[39;00m \u001b[43mfunc\u001b[49m\u001b[43m(\u001b[49m\u001b[38;5;241;43m*\u001b[39;49m\u001b[38;5;241;43m*\u001b[39;49m\u001b[43mkwargs\u001b[49m\u001b[43m)\u001b[49m\n",
      "File \u001b[1;32mc:\\Users\\Henry\\Vs Code Projects\\Real-Time-Fraud-Detection-Pipeline\\Fraud-Detection-Analysis\\.venv\\Lib\\site-packages\\xgboost\\core.py:617\u001b[0m, in \u001b[0;36minput_data\u001b[1;34m(data, feature_names, feature_types, **kwargs)\u001b[0m\n\u001b[0;32m    611\u001b[0m except TypeError:\n\u001b[0;32m    612\u001b[0m     ref = None\n\u001b[0;32m    613\u001b[0m if (\n\u001b[0;32m    614\u001b[0m     self._temporary_data is not None\n\u001b[0;32m    615\u001b[0m     and ref is not None\n\u001b[0;32m    616\u001b[0m     and ref is self._data_ref\n\u001b[1;32m--> 617\u001b[0m ):\n\u001b[0;32m    618\u001b[0m     new, cat_codes, feature_names, feature_types = self._temporary_data\n\u001b[0;32m    619\u001b[0m else:\n",
      "File \u001b[1;32mc:\\Users\\Henry\\Vs Code Projects\\Real-Time-Fraud-Detection-Pipeline\\Fraud-Detection-Analysis\\.venv\\Lib\\site-packages\\xgboost\\data.py:1447\u001b[0m, in \u001b[0;36m_proxy_transform\u001b[1;34m(data, feature_names, feature_types, enable_categorical)\u001b[0m\n\u001b[0;32m   1439\u001b[0m     data \u001b[38;5;241m=\u001b[39m pd\u001b[38;5;241m.\u001b[39mDataFrame(data)\n\u001b[0;32m   1440\u001b[0m \u001b[38;5;28;01mif\u001b[39;00m _is_pandas_df(data):\n\u001b[0;32m   1441\u001b[0m     \u001b[38;5;28;01mreturn\u001b[39;00m \u001b[43m_from_pandas_df\u001b[49m\u001b[43m(\u001b[49m\n\u001b[0;32m   1442\u001b[0m \u001b[43m        \u001b[49m\u001b[43mdata\u001b[49m\u001b[38;5;241;43m=\u001b[39;49m\u001b[43mdata\u001b[49m\u001b[43m,\u001b[49m\n\u001b[0;32m   1443\u001b[0m \u001b[43m        \u001b[49m\u001b[43menable_categorical\u001b[49m\u001b[38;5;241;43m=\u001b[39;49m\u001b[43menable_categorical\u001b[49m\u001b[43m,\u001b[49m\n\u001b[0;32m   1444\u001b[0m \u001b[43m        \u001b[49m\u001b[43mmissing\u001b[49m\u001b[38;5;241;43m=\u001b[39;49m\u001b[43mmissing\u001b[49m\u001b[43m,\u001b[49m\n\u001b[0;32m   1445\u001b[0m \u001b[43m        \u001b[49m\u001b[43mnthread\u001b[49m\u001b[38;5;241;43m=\u001b[39;49m\u001b[43mthreads\u001b[49m\u001b[43m,\u001b[49m\n\u001b[0;32m   1446\u001b[0m \u001b[43m        \u001b[49m\u001b[43mfeature_names\u001b[49m\u001b[38;5;241;43m=\u001b[39;49m\u001b[43mfeature_names\u001b[49m\u001b[43m,\u001b[49m\n\u001b[1;32m-> 1447\u001b[0m \u001b[43m        \u001b[49m\u001b[43mfeature_types\u001b[49m\u001b[38;5;241;43m=\u001b[39;49m\u001b[43mfeature_types\u001b[49m\u001b[43m,\u001b[49m\n\u001b[0;32m   1448\u001b[0m \u001b[43m        \u001b[49m\u001b[43mdata_split_mode\u001b[49m\u001b[38;5;241;43m=\u001b[39;49m\u001b[43mdata_split_mode\u001b[49m\u001b[43m,\u001b[49m\n\u001b[0;32m   1449\u001b[0m \u001b[43m    \u001b[49m\u001b[43m)\u001b[49m\n\u001b[0;32m   1450\u001b[0m \u001b[38;5;28;01mif\u001b[39;00m _is_cudf_df(data) \u001b[38;5;129;01mor\u001b[39;00m _is_cudf_ser(data):\n\u001b[0;32m   1451\u001b[0m     \u001b[38;5;28;01mreturn\u001b[39;00m _from_cudf_df(\n\u001b[0;32m   1452\u001b[0m         data\u001b[38;5;241m=\u001b[39mdata,\n\u001b[0;32m   1453\u001b[0m         missing\u001b[38;5;241m=\u001b[39mmissing,\n\u001b[1;32m   (...)\u001b[0m\n\u001b[0;32m   1457\u001b[0m         enable_categorical\u001b[38;5;241m=\u001b[39menable_categorical,\n\u001b[0;32m   1458\u001b[0m     )\n",
      "File \u001b[1;32mc:\\Users\\Henry\\Vs Code Projects\\Real-Time-Fraud-Detection-Pipeline\\Fraud-Detection-Analysis\\.venv\\Lib\\site-packages\\xgboost\\data.py:603\u001b[0m, in \u001b[0;36m_transform_pandas_df\u001b[1;34m(data, enable_categorical, feature_names, feature_types, meta)\u001b[0m\n\u001b[0;32m    601\u001b[0m             arr, _ = _ensure_np_dtype(arr, arr.dtype)\n\u001b[0;32m    602\u001b[0m         result.append(arr)\n\u001b[1;32m--> 603\u001b[0m     else:\n\u001b[0;32m    604\u001b[0m         result.append(oth_type(data[col]))\n\u001b[0;32m    606\u001b[0m # FIXME(jiamingy): Investigate the possibility of using dataframe protocol or arrow\n\u001b[0;32m    607\u001b[0m # IPC format for pandas so that we can apply the data transformation inside XGBoost\n\u001b[0;32m    608\u001b[0m # for better memory efficiency.\n",
      "File \u001b[1;32mc:\\Users\\Henry\\Vs Code Projects\\Real-Time-Fraud-Detection-Pipeline\\Fraud-Detection-Analysis\\.venv\\Lib\\site-packages\\xgboost\\data.py:569\u001b[0m, in \u001b[0;36mpandas_check_dtypes\u001b[1;34m(data, enable_categorical)\u001b[0m\n\u001b[0;32m    566\u001b[0m \u001b[38;5;28;01mdef\u001b[39;00m\u001b[38;5;250m \u001b[39m\u001b[38;5;21moth_type\u001b[39m(ser: PdSeries) \u001b[38;5;241m-\u001b[39m\u001b[38;5;241m>\u001b[39m np\u001b[38;5;241m.\u001b[39mndarray:\n\u001b[0;32m    567\u001b[0m     \u001b[38;5;66;03m# The dtypes module is added in 1.25.\u001b[39;00m\n\u001b[0;32m    568\u001b[0m     npdtypes \u001b[38;5;241m=\u001b[39m np_dtypes \u001b[38;5;129;01mand\u001b[39;00m \u001b[38;5;28misinstance\u001b[39m(\n\u001b[1;32m--> 569\u001b[0m         ser\u001b[38;5;241m.\u001b[39mdtype,\n\u001b[0;32m    570\u001b[0m         (\n\u001b[0;32m    571\u001b[0m             \u001b[38;5;66;03m# pylint: disable=no-member\u001b[39;00m\n\u001b[0;32m    572\u001b[0m             np\u001b[38;5;241m.\u001b[39mdtypes\u001b[38;5;241m.\u001b[39mFloat32DType,  \u001b[38;5;66;03m# type: ignore\u001b[39;00m\n\u001b[0;32m    573\u001b[0m             \u001b[38;5;66;03m# pylint: disable=no-member\u001b[39;00m\n\u001b[0;32m    574\u001b[0m             np\u001b[38;5;241m.\u001b[39mdtypes\u001b[38;5;241m.\u001b[39mFloat64DType,  \u001b[38;5;66;03m# type: ignore\u001b[39;00m\n\u001b[0;32m    575\u001b[0m         ),\n\u001b[0;32m    576\u001b[0m     )\n\u001b[0;32m    578\u001b[0m     \u001b[38;5;28;01mif\u001b[39;00m npdtypes \u001b[38;5;129;01mor\u001b[39;00m dtype \u001b[38;5;129;01min\u001b[39;00m {np\u001b[38;5;241m.\u001b[39mfloat32, np\u001b[38;5;241m.\u001b[39mfloat64}:\n\u001b[0;32m    579\u001b[0m         array \u001b[38;5;241m=\u001b[39m ser\u001b[38;5;241m.\u001b[39mto_numpy()\n",
      "File \u001b[1;32mc:\\Users\\Henry\\Vs Code Projects\\Real-Time-Fraud-Detection-Pipeline\\Fraud-Detection-Analysis\\.venv\\Lib\\site-packages\\xgboost\\data.py:356\u001b[0m, in \u001b[0;36m_invalid_dataframe_dtype\u001b[1;34m(data)\u001b[0m\n\u001b[0;32m      0\u001b[0m <Error retrieving source code with stack_data see ipython/ipython#13598>\n",
      "\u001b[1;31mValueError\u001b[0m: DataFrame.dtypes for data must be int, float, bool or category. When categorical type is supplied, the experimental DMatrix parameter`enable_categorical` must be set to `True`.  Invalid columns:city: object"
     ]
    }
   ],
   "source": [
    "from xgboost import XGBClassifier\n",
    "from sklearn.metrics import (\n",
    "    classification_report,\n",
    "    confusion_matrix,\n",
    "    ConfusionMatrixDisplay,\n",
    ")\n",
    "from imblearn.metrics import geometric_mean_score\n",
    "import matplotlib.pyplot as plt\n",
    "\n",
    "scale_pos_weight = (len(y_train) - sum(y_train)) / sum(y_train)\n",
    "\n",
    "model = XGBClassifier(\n",
    "    objective=\"binary:logistic\",\n",
    "    eval_metric=\"auc\",\n",
    "    eval_set=[(X_val, y_val)],\n",
    "    early_stopping_rounds=10,\n",
    "    max_depth=6,\n",
    "    learning_rate=0.05,\n",
    "    n_estimators=500,\n",
    "    subsample=0.8,\n",
    "    colsample_bytree=0.8,\n",
    "    scale_pos_weight=scale_pos_weight,\n",
    "    random_state=42,\n",
    "    use_label_encoder=False,\n",
    ")\n",
    "\n",
    "model.fit(\n",
    "    X_train,\n",
    "    y_train,\n",
    "    verbose=True,\n",
    ")"
   ]
  }
 ],
 "metadata": {
  "kernelspec": {
   "display_name": ".venv",
   "language": "python",
   "name": "python3"
  },
  "language_info": {
   "codemirror_mode": {
    "name": "ipython",
    "version": 3
   },
   "file_extension": ".py",
   "mimetype": "text/x-python",
   "name": "python",
   "nbconvert_exporter": "python",
   "pygments_lexer": "ipython3",
   "version": "3.12.6"
  }
 },
 "nbformat": 4,
 "nbformat_minor": 2
}
