{
 "cells": [
  {
   "cell_type": "code",
   "execution_count": 7,
   "metadata": {},
   "outputs": [],
   "source": [
    "from faker import Faker\n",
    "import pandas as pd\n",
    "import numpy as np\n",
    "from tqdm import tqdm\n",
    "import random\n",
    "\n",
    "fake = Faker()\n",
    "Faker.seed(42)\n",
    "np.random.seed(42)\n",
    "\n",
    "TOTAL_RECORDS = 200_200\n",
    "UNSEEN_SIZE = 200\n",
    "MAIN_DATASET_SIZE = TOTAL_RECORDS - UNSEEN_SIZE\n",
    "\n",
    "FRAUD_RATE = 0.0375\n",
    "TOTAL_FRAUDS = int(TOTAL_RECORDS * FRAUD_RATE)\n",
    "fraud_indices = set(np.random.choice(TOTAL_RECORDS, TOTAL_FRAUDS, replace=False))\n",
    "\n",
    "\n",
    "def generate_record(index):\n",
    "    is_fraud = 1 if index in fraud_indices else 0\n",
    "    country = fake.country_code()\n",
    "    city = fake.city()\n",
    "    latitude = round(fake.latitude(), 6) if random.random() > 0.1 else None\n",
    "    longitude = round(fake.longitude(), 6) if random.random() > 0.1 else None\n",
    "    ip = fake.ipv4_public()\n",
    "\n",
    "    vpn_usage = random.choices(\n",
    "        [1, 0], weights=[0.6 if is_fraud else 0.1, 0.4 if is_fraud else 0.9]\n",
    "    )[0]\n",
    "    proxy_usage = random.choices(\n",
    "        [1, 0], weights=[0.4 if is_fraud else 0.05, 0.6 if is_fraud else 0.95]\n",
    "    )[0]\n",
    "    ip_risk_score = np.clip(np.random.normal(85 if is_fraud else 30, 10), 0, 100)\n",
    "\n",
    "    amount = round(np.random.exponential(50 if not is_fraud else 500), 2)\n",
    "    currency = random.choice([\"USD\", \"EUR\", \"GBP\", \"JPY\"])\n",
    "    transaction_type = random.choice([\"PURCHASE\", \"TRANSFER\", \"WITHDRAWAL\"])\n",
    "\n",
    "    return {\n",
    "        \"transaction_id\": index + 1,\n",
    "        \"timestamp\": fake.date_time_this_year(),\n",
    "        \"amount\": amount,\n",
    "        \"currency\": currency,\n",
    "        \"transaction_type\": transaction_type,\n",
    "        \"country\": country,\n",
    "        \"city\": city,\n",
    "        \"latitude\": latitude,\n",
    "        \"longitude\": longitude,\n",
    "        \"ip_address\": ip,\n",
    "        \"timezone\": fake.timezone(),\n",
    "        \"user_id\": fake.random_int(min=1, max=50_000),\n",
    "        \"device_id\": fake.uuid4() if random.random() > 0.05 else None,\n",
    "        \"device_type\": random.choice([\"Mobile\", \"Desktop\", \"Tablet\"]),\n",
    "        \"operating_system\": random.choice(\n",
    "            [\"iOS\", \"Android\", \"Windows\", \"macOS\", \"Linux\"]\n",
    "        ),\n",
    "        \"app_version\": f\"{random.randint(1,6)}.{random.randint(0,9)}.{random.randint(0,9)}\",\n",
    "        \"user_agent\": fake.user_agent(),\n",
    "        \"avg_spend_30d\": (\n",
    "            round(np.random.normal(200, 75), 2) if random.random() > 0.05 else None\n",
    "        ),\n",
    "        \"transactions_last_7d\": np.random.poisson(5),\n",
    "        \"time_since_last_login\": round(random.uniform(0.1, 168), 1),\n",
    "        \"login_attempts_last_24h\": random.randint(0, 5),\n",
    "        \"is_new_device\": random.choices(\n",
    "            [1, 0], weights=[0.6 if is_fraud else 0.1, 0.4 if is_fraud else 0.9]\n",
    "        )[0],\n",
    "        \"vpn_usage\": vpn_usage,\n",
    "        \"proxy_usage\": proxy_usage,\n",
    "        \"ip_risk_score\": int(ip_risk_score),\n",
    "        \"ASN\": random.randint(1000, 99999),\n",
    "        \"ISP\": fake.company(),\n",
    "        \"is_fraud\": is_fraud,\n",
    "    }"
   ]
  },
  {
   "cell_type": "code",
   "execution_count": 10,
   "metadata": {},
   "outputs": [
    {
     "name": "stderr",
     "output_type": "stream",
     "text": [
      "100%|██████████| 200200/200200 [00:47<00:00, 4226.29it/s]\n"
     ]
    },
    {
     "name": "stdout",
     "output_type": "stream",
     "text": [
      "Main dataset fraud ratio: 0.0375\n",
      "Unseen dataset fraud ratio: 0.0350\n",
      "Data generation complete:\n",
      "- geolocation_fraud_dataset.csv → 200,000 rows\n",
      "- geolocation_fraud_data_unseen.csv → 200 unseen rows\n"
     ]
    }
   ],
   "source": [
    "from sklearn.model_selection import train_test_split\n",
    "\n",
    "records = []\n",
    "for i in tqdm(range(TOTAL_RECORDS)):\n",
    "    records.append(generate_record(i))\n",
    "\n",
    "df_full = pd.DataFrame(records)\n",
    "\n",
    "# Stratified split to preserve fraud ratio in both datasets\n",
    "df_main, df_unseen = train_test_split(\n",
    "    df_full, test_size=UNSEEN_SIZE, stratify=df_full[\"is_fraud\"], random_state=42\n",
    ")\n",
    "\n",
    "# Confirm fraud ratio in both datasets\n",
    "print(f\"Main dataset fraud ratio: {df_main['is_fraud'].mean():.4f}\")\n",
    "print(f\"Unseen dataset fraud ratio: {df_unseen['is_fraud'].mean():.4f}\")\n",
    "\n",
    "# Save both datasets\n",
    "df_main.to_csv(\"data/geolocation_fraud_dataset.csv\", index=False)\n",
    "df_unseen.to_csv(\"data/geolocation_fraud_data_unseen.csv\", index=False)\n",
    "print(\"Data generation complete:\")\n",
    "print(\"- geolocation_fraud_dataset.csv → 200,000 rows\")\n",
    "print(\"- geolocation_fraud_data_unseen.csv → 200 unseen rows\")"
   ]
  }
 ],
 "metadata": {
  "kernelspec": {
   "display_name": ".venv",
   "language": "python",
   "name": "python3"
  },
  "language_info": {
   "codemirror_mode": {
    "name": "ipython",
    "version": 3
   },
   "file_extension": ".py",
   "mimetype": "text/x-python",
   "name": "python",
   "nbconvert_exporter": "python",
   "pygments_lexer": "ipython3",
   "version": "3.12.6"
  }
 },
 "nbformat": 4,
 "nbformat_minor": 2
}
