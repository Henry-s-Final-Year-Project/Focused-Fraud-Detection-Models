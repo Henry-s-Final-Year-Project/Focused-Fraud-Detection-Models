{
  "cells": [
    {
      "cell_type": "code",
      "source": [
        "!pip install faker"
      ],
      "metadata": {
        "colab": {
          "base_uri": "https://localhost:8080/"
        },
        "id": "XRo_nIS3v2Vw",
        "outputId": "92a90894-b942-4ff5-a815-5b8b441fda42"
      },
      "execution_count": 2,
      "outputs": [
        {
          "output_type": "stream",
          "name": "stdout",
          "text": [
            "Collecting faker\n",
            "  Downloading faker-37.0.2-py3-none-any.whl.metadata (15 kB)\n",
            "Requirement already satisfied: tzdata in /usr/local/lib/python3.11/dist-packages (from faker) (2025.1)\n",
            "Downloading faker-37.0.2-py3-none-any.whl (1.9 MB)\n",
            "\u001b[?25l   \u001b[90m━━━━━━━━━━━━━━━━━━━━━━━━━━━━━━━━━━━━━━━━\u001b[0m \u001b[32m0.0/1.9 MB\u001b[0m \u001b[31m?\u001b[0m eta \u001b[36m-:--:--\u001b[0m\r\u001b[2K   \u001b[91m━━━━━━━━━━━━━━━━━━━━━━━━━━━━━━━━━━━━━━━\u001b[0m\u001b[91m╸\u001b[0m \u001b[32m1.9/1.9 MB\u001b[0m \u001b[31m99.6 MB/s\u001b[0m eta \u001b[36m0:00:01\u001b[0m\r\u001b[2K   \u001b[90m━━━━━━━━━━━━━━━━━━━━━━━━━━━━━━━━━━━━━━━━\u001b[0m \u001b[32m1.9/1.9 MB\u001b[0m \u001b[31m45.1 MB/s\u001b[0m eta \u001b[36m0:00:00\u001b[0m\n",
            "\u001b[?25hInstalling collected packages: faker\n",
            "Successfully installed faker-37.0.2\n"
          ]
        }
      ]
    },
    {
      "cell_type": "code",
      "execution_count": 3,
      "metadata": {
        "id": "tuCqIWKivuOR"
      },
      "outputs": [],
      "source": [
        "from faker import Faker\n",
        "import pandas as pd\n",
        "import numpy as np\n",
        "from tqdm import tqdm\n",
        "import random\n",
        "\n",
        "fake = Faker()\n",
        "Faker.seed(42)\n",
        "np.random.seed(42)\n",
        "\n",
        "TOTAL_RECORDS = 200_200\n",
        "UNSEEN_SIZE = 200\n",
        "MAIN_DATASET_SIZE = TOTAL_RECORDS - UNSEEN_SIZE\n",
        "\n",
        "FRAUD_RATE = 0.0375\n",
        "TOTAL_FRAUDS = int(TOTAL_RECORDS * FRAUD_RATE)\n",
        "fraud_indices = set(np.random.choice(TOTAL_RECORDS, TOTAL_FRAUDS, replace=False))\n",
        "\n",
        "\n",
        "def generate_record(index):\n",
        "    is_fraud = 1 if index in fraud_indices else 0\n",
        "\n",
        "    # Simulate noisy or overlapping feature distributions\n",
        "    country = fake.country_code() if random.random() > 0.03 else 'XX'  # missing country ~3%\n",
        "    city = fake.city()\n",
        "    latitude = round(fake.latitude(), 6) if random.random() > 0.2 else None\n",
        "    longitude = round(fake.longitude(), 6) if random.random() > 0.2 else None\n",
        "    ip = fake.ipv4_public()\n",
        "\n",
        "    # Reduce separation between fraud and non-fraud\n",
        "    vpn_usage = random.choices([1, 0], weights=[0.45 if is_fraud else 0.15, 0.55 if is_fraud else 0.85])[0]\n",
        "    proxy_usage = random.choices([1, 0], weights=[0.3 if is_fraud else 0.05, 0.7 if is_fraud else 0.95])[0]\n",
        "    ip_risk_score = np.clip(\n",
        "        np.random.normal(75 if is_fraud else 40, 20), 0, 100\n",
        "    )\n",
        "\n",
        "    # Simulate some frauds that look like normal transactions\n",
        "    if is_fraud and random.random() < 0.2:\n",
        "        vpn_usage = 0\n",
        "        proxy_usage = 0\n",
        "        ip_risk_score = np.random.normal(30, 10)\n",
        "\n",
        "    amount = round(\n",
        "        np.random.exponential(100 if not is_fraud else 300), 2\n",
        "    )\n",
        "    currency = random.choice([\"USD\", \"EUR\", \"GBP\", \"JPY\"])\n",
        "    transaction_type = random.choice([\"PURCHASE\", \"TRANSFER\", \"WITHDRAWAL\"])\n",
        "\n",
        "    return {\n",
        "        \"transaction_id\": index + 1,\n",
        "        \"timestamp\": fake.date_time_this_year(),\n",
        "        \"amount\": amount,\n",
        "        \"currency\": currency,\n",
        "        \"transaction_type\": transaction_type,\n",
        "        \"country\": country,\n",
        "        \"city\": city,\n",
        "        \"latitude\": latitude,\n",
        "        \"longitude\": longitude,\n",
        "        \"ip_address\": ip,\n",
        "        \"timezone\": fake.timezone(),\n",
        "        \"user_id\": fake.random_int(min=1, max=50_000),\n",
        "        \"device_id\": fake.uuid4() if random.random() > 0.1 else None,\n",
        "        \"device_type\": random.choice([\"Mobile\", \"Desktop\", \"Tablet\"]),\n",
        "        \"operating_system\": random.choice([\"iOS\", \"Android\", \"Windows\", \"macOS\", \"Linux\"]),\n",
        "        \"app_version\": f\"{random.randint(1,6)}.{random.randint(0,9)}.{random.randint(0,9)}\",\n",
        "        \"user_agent\": fake.user_agent(),\n",
        "        \"avg_spend_30d\": round(np.random.normal(200, 100), 2) if random.random() > 0.15 else None,\n",
        "        \"transactions_last_7d\": np.random.poisson(6),\n",
        "        \"time_since_last_login\": round(random.uniform(0.1, 168), 1),\n",
        "        \"login_attempts_last_24h\": random.randint(0, 6),\n",
        "        \"is_new_device\": random.choices([1, 0], weights=[0.5 if is_fraud else 0.15, 0.5 if is_fraud else 0.85])[0],\n",
        "        \"vpn_usage\": vpn_usage,\n",
        "        \"proxy_usage\": proxy_usage,\n",
        "        \"ip_risk_score\": int(ip_risk_score),\n",
        "        \"ASN\": random.randint(1000, 99999),\n",
        "        \"ISP\": fake.company(),\n",
        "        \"is_fraud\": is_fraud,\n",
        "    }\n"
      ]
    },
    {
      "cell_type": "code",
      "source": [
        "import google.colab as colab\n",
        "colab.drive.mount('/content/drive')"
      ],
      "metadata": {
        "colab": {
          "base_uri": "https://localhost:8080/"
        },
        "id": "i3hlljtjwCEu",
        "outputId": "56989f2a-bd31-4265-8eee-f423210ee848"
      },
      "execution_count": 5,
      "outputs": [
        {
          "output_type": "stream",
          "name": "stdout",
          "text": [
            "Mounted at /content/drive\n"
          ]
        }
      ]
    },
    {
      "cell_type": "code",
      "execution_count": 6,
      "metadata": {
        "colab": {
          "base_uri": "https://localhost:8080/"
        },
        "id": "Ot2iCSoMvuOS",
        "outputId": "74bd249d-bc07-45d5-957b-11cff02e21be"
      },
      "outputs": [
        {
          "output_type": "stream",
          "name": "stderr",
          "text": [
            "100%|██████████| 200200/200200 [02:03<00:00, 1624.69it/s]\n"
          ]
        },
        {
          "output_type": "stream",
          "name": "stdout",
          "text": [
            "Main dataset fraud ratio: 0.0375\n",
            "Unseen dataset fraud ratio: 0.0350\n",
            "Data generation complete:\n",
            "- geolocation_fraud_dataset.csv → 200,000 rows\n",
            "- geolocation_fraud_data_unseen.csv → 200 unseen rows\n"
          ]
        }
      ],
      "source": [
        "from sklearn.model_selection import train_test_split\n",
        "\n",
        "records = []\n",
        "for i in tqdm(range(TOTAL_RECORDS)):\n",
        "    records.append(generate_record(i))\n",
        "\n",
        "df_full = pd.DataFrame(records)\n",
        "\n",
        "# Stratified split to preserve fraud ratio in both datasets\n",
        "df_main, df_unseen = train_test_split(\n",
        "    df_full, test_size=UNSEEN_SIZE, stratify=df_full[\"is_fraud\"], random_state=42\n",
        ")\n",
        "\n",
        "# Confirm fraud ratio in both datasets\n",
        "print(f\"Main dataset fraud ratio: {df_main['is_fraud'].mean():.4f}\")\n",
        "print(f\"Unseen dataset fraud ratio: {df_unseen['is_fraud'].mean():.4f}\")\n",
        "\n",
        "# Save both datasets\n",
        "# df_main.to_csv(\"data/geolocation_fraud_dataset.csv\", index=False)\n",
        "# df_unseen.to_csv(\"data/geolocation_fraud_data_unseen.csv\", index=False)\n",
        "df_main.to_csv(\"/content/drive/My Drive/FYP_model_assets/geolocation_fraud_dataset.csv\", index=False)\n",
        "df_unseen.to_csv(\"/content/drive/My Drive/FYP_model_assets/geolocation_fraud_data_unseen.csv\", index=False)\n",
        "print(\"Data generation complete:\")\n",
        "print(\"- geolocation_fraud_dataset.csv → 200,000 rows\")\n",
        "print(\"- geolocation_fraud_data_unseen.csv → 200 unseen rows\")"
      ]
    }
  ],
  "metadata": {
    "kernelspec": {
      "display_name": ".venv",
      "language": "python",
      "name": "python3"
    },
    "language_info": {
      "codemirror_mode": {
        "name": "ipython",
        "version": 3
      },
      "file_extension": ".py",
      "mimetype": "text/x-python",
      "name": "python",
      "nbconvert_exporter": "python",
      "pygments_lexer": "ipython3",
      "version": "3.12.6"
    },
    "colab": {
      "provenance": []
    }
  },
  "nbformat": 4,
  "nbformat_minor": 0
}